{
 "cells": [
  {
   "cell_type": "markdown",
   "id": "9323f4df-75a4-4990-ad9a-f4aa51cd62c7",
   "metadata": {},
   "source": [
    "### Import relevant libraries"
   ]
  },
  {
   "cell_type": "code",
   "execution_count": 12,
   "id": "c65d71af-3889-40b0-9f40-0ac25dfa0b99",
   "metadata": {},
   "outputs": [],
   "source": [
    "from __future__ import print_function\n",
    "import matplotlib.pyplot as plt\n",
    "import seaborn as sns\n",
    "import time\n",
    "import pandas as pd\n",
    "import numpy as np\n",
    "from sklearn.model_selection import train_test_split\n",
    "from sklearn.preprocessing import normalize, StandardScaler\n",
    "from sklearn.utils.class_weight import compute_sample_weight\n",
    "from sklearn.metrics import roc_auc_score"
   ]
  },
  {
   "cell_type": "markdown",
   "id": "35a00628-fb61-4a6b-9158-4cb165991419",
   "metadata": {},
   "source": [
    "### Get the data"
   ]
  },
  {
   "cell_type": "code",
   "execution_count": 4,
   "id": "14ef8e4f-e34d-470d-b307-2d878bbbcc68",
   "metadata": {},
   "outputs": [
    {
     "name": "stdout",
     "output_type": "stream",
     "text": [
      "There are 284807 in the credit card input data set\n",
      "There are 31 in the credit card input data set\n"
     ]
    }
   ],
   "source": [
    "#download the dataset\n",
    "path = \"https://cf-courses-data.s3.us.cloud-object-storage.appdomain.cloud/IBMDeveloperSkillsNetwork-ML0101EN-SkillsNetwork/labs/Module%203/data/creditcard.csv\"\n",
    "\n",
    "#read the input data\n",
    "input_data = pd.read_csv(path)\n",
    "\n",
    "print(\"There are \"+str(len(input_data)) +\" in the credit card input data set\")\n",
    "print(\"There are \"+str(len(input_data.columns)) + \"variables in the credit card input data set\")"
   ]
  },
  {
   "cell_type": "markdown",
   "id": "4395ee6d-42d0-4b05-81ec-59c32aee1bec",
   "metadata": {},
   "source": [
    "### Data Analysis"
   ]
  },
  {
   "cell_type": "code",
   "execution_count": 5,
   "id": "f626f645-6ae3-437b-8c5f-cbcc5ad8a96e",
   "metadata": {},
   "outputs": [
    {
     "data": {
      "text/html": [
       "<div>\n",
       "<style scoped>\n",
       "    .dataframe tbody tr th:only-of-type {\n",
       "        vertical-align: middle;\n",
       "    }\n",
       "\n",
       "    .dataframe tbody tr th {\n",
       "        vertical-align: top;\n",
       "    }\n",
       "\n",
       "    .dataframe thead th {\n",
       "        text-align: right;\n",
       "    }\n",
       "</style>\n",
       "<table border=\"1\" class=\"dataframe\">\n",
       "  <thead>\n",
       "    <tr style=\"text-align: right;\">\n",
       "      <th></th>\n",
       "      <th>Time</th>\n",
       "      <th>V1</th>\n",
       "      <th>V2</th>\n",
       "      <th>V3</th>\n",
       "      <th>V4</th>\n",
       "      <th>V5</th>\n",
       "      <th>V6</th>\n",
       "      <th>V7</th>\n",
       "      <th>V8</th>\n",
       "      <th>V9</th>\n",
       "      <th>...</th>\n",
       "      <th>V21</th>\n",
       "      <th>V22</th>\n",
       "      <th>V23</th>\n",
       "      <th>V24</th>\n",
       "      <th>V25</th>\n",
       "      <th>V26</th>\n",
       "      <th>V27</th>\n",
       "      <th>V28</th>\n",
       "      <th>Amount</th>\n",
       "      <th>Class</th>\n",
       "    </tr>\n",
       "  </thead>\n",
       "  <tbody>\n",
       "    <tr>\n",
       "      <th>0</th>\n",
       "      <td>0.0</td>\n",
       "      <td>-1.359807</td>\n",
       "      <td>-0.072781</td>\n",
       "      <td>2.536347</td>\n",
       "      <td>1.378155</td>\n",
       "      <td>-0.338321</td>\n",
       "      <td>0.462388</td>\n",
       "      <td>0.239599</td>\n",
       "      <td>0.098698</td>\n",
       "      <td>0.363787</td>\n",
       "      <td>...</td>\n",
       "      <td>-0.018307</td>\n",
       "      <td>0.277838</td>\n",
       "      <td>-0.110474</td>\n",
       "      <td>0.066928</td>\n",
       "      <td>0.128539</td>\n",
       "      <td>-0.189115</td>\n",
       "      <td>0.133558</td>\n",
       "      <td>-0.021053</td>\n",
       "      <td>149.62</td>\n",
       "      <td>0</td>\n",
       "    </tr>\n",
       "    <tr>\n",
       "      <th>1</th>\n",
       "      <td>0.0</td>\n",
       "      <td>1.191857</td>\n",
       "      <td>0.266151</td>\n",
       "      <td>0.166480</td>\n",
       "      <td>0.448154</td>\n",
       "      <td>0.060018</td>\n",
       "      <td>-0.082361</td>\n",
       "      <td>-0.078803</td>\n",
       "      <td>0.085102</td>\n",
       "      <td>-0.255425</td>\n",
       "      <td>...</td>\n",
       "      <td>-0.225775</td>\n",
       "      <td>-0.638672</td>\n",
       "      <td>0.101288</td>\n",
       "      <td>-0.339846</td>\n",
       "      <td>0.167170</td>\n",
       "      <td>0.125895</td>\n",
       "      <td>-0.008983</td>\n",
       "      <td>0.014724</td>\n",
       "      <td>2.69</td>\n",
       "      <td>0</td>\n",
       "    </tr>\n",
       "    <tr>\n",
       "      <th>2</th>\n",
       "      <td>1.0</td>\n",
       "      <td>-1.358354</td>\n",
       "      <td>-1.340163</td>\n",
       "      <td>1.773209</td>\n",
       "      <td>0.379780</td>\n",
       "      <td>-0.503198</td>\n",
       "      <td>1.800499</td>\n",
       "      <td>0.791461</td>\n",
       "      <td>0.247676</td>\n",
       "      <td>-1.514654</td>\n",
       "      <td>...</td>\n",
       "      <td>0.247998</td>\n",
       "      <td>0.771679</td>\n",
       "      <td>0.909412</td>\n",
       "      <td>-0.689281</td>\n",
       "      <td>-0.327642</td>\n",
       "      <td>-0.139097</td>\n",
       "      <td>-0.055353</td>\n",
       "      <td>-0.059752</td>\n",
       "      <td>378.66</td>\n",
       "      <td>0</td>\n",
       "    </tr>\n",
       "    <tr>\n",
       "      <th>3</th>\n",
       "      <td>1.0</td>\n",
       "      <td>-0.966272</td>\n",
       "      <td>-0.185226</td>\n",
       "      <td>1.792993</td>\n",
       "      <td>-0.863291</td>\n",
       "      <td>-0.010309</td>\n",
       "      <td>1.247203</td>\n",
       "      <td>0.237609</td>\n",
       "      <td>0.377436</td>\n",
       "      <td>-1.387024</td>\n",
       "      <td>...</td>\n",
       "      <td>-0.108300</td>\n",
       "      <td>0.005274</td>\n",
       "      <td>-0.190321</td>\n",
       "      <td>-1.175575</td>\n",
       "      <td>0.647376</td>\n",
       "      <td>-0.221929</td>\n",
       "      <td>0.062723</td>\n",
       "      <td>0.061458</td>\n",
       "      <td>123.50</td>\n",
       "      <td>0</td>\n",
       "    </tr>\n",
       "    <tr>\n",
       "      <th>4</th>\n",
       "      <td>2.0</td>\n",
       "      <td>-1.158233</td>\n",
       "      <td>0.877737</td>\n",
       "      <td>1.548718</td>\n",
       "      <td>0.403034</td>\n",
       "      <td>-0.407193</td>\n",
       "      <td>0.095921</td>\n",
       "      <td>0.592941</td>\n",
       "      <td>-0.270533</td>\n",
       "      <td>0.817739</td>\n",
       "      <td>...</td>\n",
       "      <td>-0.009431</td>\n",
       "      <td>0.798278</td>\n",
       "      <td>-0.137458</td>\n",
       "      <td>0.141267</td>\n",
       "      <td>-0.206010</td>\n",
       "      <td>0.502292</td>\n",
       "      <td>0.219422</td>\n",
       "      <td>0.215153</td>\n",
       "      <td>69.99</td>\n",
       "      <td>0</td>\n",
       "    </tr>\n",
       "  </tbody>\n",
       "</table>\n",
       "<p>5 rows × 31 columns</p>\n",
       "</div>"
      ],
      "text/plain": [
       "   Time        V1        V2        V3        V4        V5        V6        V7  \\\n",
       "0   0.0 -1.359807 -0.072781  2.536347  1.378155 -0.338321  0.462388  0.239599   \n",
       "1   0.0  1.191857  0.266151  0.166480  0.448154  0.060018 -0.082361 -0.078803   \n",
       "2   1.0 -1.358354 -1.340163  1.773209  0.379780 -0.503198  1.800499  0.791461   \n",
       "3   1.0 -0.966272 -0.185226  1.792993 -0.863291 -0.010309  1.247203  0.237609   \n",
       "4   2.0 -1.158233  0.877737  1.548718  0.403034 -0.407193  0.095921  0.592941   \n",
       "\n",
       "         V8        V9  ...       V21       V22       V23       V24       V25  \\\n",
       "0  0.098698  0.363787  ... -0.018307  0.277838 -0.110474  0.066928  0.128539   \n",
       "1  0.085102 -0.255425  ... -0.225775 -0.638672  0.101288 -0.339846  0.167170   \n",
       "2  0.247676 -1.514654  ...  0.247998  0.771679  0.909412 -0.689281 -0.327642   \n",
       "3  0.377436 -1.387024  ... -0.108300  0.005274 -0.190321 -1.175575  0.647376   \n",
       "4 -0.270533  0.817739  ... -0.009431  0.798278 -0.137458  0.141267 -0.206010   \n",
       "\n",
       "        V26       V27       V28  Amount  Class  \n",
       "0 -0.189115  0.133558 -0.021053  149.62      0  \n",
       "1  0.125895 -0.008983  0.014724    2.69      0  \n",
       "2 -0.139097 -0.055353 -0.059752  378.66      0  \n",
       "3 -0.221929  0.062723  0.061458  123.50      0  \n",
       "4  0.502292  0.219422  0.215153   69.99      0  \n",
       "\n",
       "[5 rows x 31 columns]"
      ]
     },
     "execution_count": 5,
     "metadata": {},
     "output_type": "execute_result"
    }
   ],
   "source": [
    "#Display first few rows in data set\n",
    "input_data.head()"
   ]
  },
  {
   "cell_type": "code",
   "execution_count": 7,
   "id": "65ba9f91-6f3d-4e05-ac30-ecb5b96b0536",
   "metadata": {},
   "outputs": [
    {
     "name": "stdout",
     "output_type": "stream",
     "text": [
      "There are 2848070 in the credit card inflated dataset\n",
      "There are 31variables in the credit card inflated dataset\n"
     ]
    },
    {
     "data": {
      "text/html": [
       "<div>\n",
       "<style scoped>\n",
       "    .dataframe tbody tr th:only-of-type {\n",
       "        vertical-align: middle;\n",
       "    }\n",
       "\n",
       "    .dataframe tbody tr th {\n",
       "        vertical-align: top;\n",
       "    }\n",
       "\n",
       "    .dataframe thead th {\n",
       "        text-align: right;\n",
       "    }\n",
       "</style>\n",
       "<table border=\"1\" class=\"dataframe\">\n",
       "  <thead>\n",
       "    <tr style=\"text-align: right;\">\n",
       "      <th></th>\n",
       "      <th>Time</th>\n",
       "      <th>V1</th>\n",
       "      <th>V2</th>\n",
       "      <th>V3</th>\n",
       "      <th>V4</th>\n",
       "      <th>V5</th>\n",
       "      <th>V6</th>\n",
       "      <th>V7</th>\n",
       "      <th>V8</th>\n",
       "      <th>V9</th>\n",
       "      <th>...</th>\n",
       "      <th>V21</th>\n",
       "      <th>V22</th>\n",
       "      <th>V23</th>\n",
       "      <th>V24</th>\n",
       "      <th>V25</th>\n",
       "      <th>V26</th>\n",
       "      <th>V27</th>\n",
       "      <th>V28</th>\n",
       "      <th>Amount</th>\n",
       "      <th>Class</th>\n",
       "    </tr>\n",
       "  </thead>\n",
       "  <tbody>\n",
       "    <tr>\n",
       "      <th>0</th>\n",
       "      <td>0.0</td>\n",
       "      <td>-1.359807</td>\n",
       "      <td>-0.072781</td>\n",
       "      <td>2.536347</td>\n",
       "      <td>1.378155</td>\n",
       "      <td>-0.338321</td>\n",
       "      <td>0.462388</td>\n",
       "      <td>0.239599</td>\n",
       "      <td>0.098698</td>\n",
       "      <td>0.363787</td>\n",
       "      <td>...</td>\n",
       "      <td>-0.018307</td>\n",
       "      <td>0.277838</td>\n",
       "      <td>-0.110474</td>\n",
       "      <td>0.066928</td>\n",
       "      <td>0.128539</td>\n",
       "      <td>-0.189115</td>\n",
       "      <td>0.133558</td>\n",
       "      <td>-0.021053</td>\n",
       "      <td>149.62</td>\n",
       "      <td>0.0</td>\n",
       "    </tr>\n",
       "    <tr>\n",
       "      <th>1</th>\n",
       "      <td>0.0</td>\n",
       "      <td>-1.359807</td>\n",
       "      <td>-0.072781</td>\n",
       "      <td>2.536347</td>\n",
       "      <td>1.378155</td>\n",
       "      <td>-0.338321</td>\n",
       "      <td>0.462388</td>\n",
       "      <td>0.239599</td>\n",
       "      <td>0.098698</td>\n",
       "      <td>0.363787</td>\n",
       "      <td>...</td>\n",
       "      <td>-0.018307</td>\n",
       "      <td>0.277838</td>\n",
       "      <td>-0.110474</td>\n",
       "      <td>0.066928</td>\n",
       "      <td>0.128539</td>\n",
       "      <td>-0.189115</td>\n",
       "      <td>0.133558</td>\n",
       "      <td>-0.021053</td>\n",
       "      <td>149.62</td>\n",
       "      <td>0.0</td>\n",
       "    </tr>\n",
       "    <tr>\n",
       "      <th>2</th>\n",
       "      <td>0.0</td>\n",
       "      <td>-1.359807</td>\n",
       "      <td>-0.072781</td>\n",
       "      <td>2.536347</td>\n",
       "      <td>1.378155</td>\n",
       "      <td>-0.338321</td>\n",
       "      <td>0.462388</td>\n",
       "      <td>0.239599</td>\n",
       "      <td>0.098698</td>\n",
       "      <td>0.363787</td>\n",
       "      <td>...</td>\n",
       "      <td>-0.018307</td>\n",
       "      <td>0.277838</td>\n",
       "      <td>-0.110474</td>\n",
       "      <td>0.066928</td>\n",
       "      <td>0.128539</td>\n",
       "      <td>-0.189115</td>\n",
       "      <td>0.133558</td>\n",
       "      <td>-0.021053</td>\n",
       "      <td>149.62</td>\n",
       "      <td>0.0</td>\n",
       "    </tr>\n",
       "    <tr>\n",
       "      <th>3</th>\n",
       "      <td>0.0</td>\n",
       "      <td>-1.359807</td>\n",
       "      <td>-0.072781</td>\n",
       "      <td>2.536347</td>\n",
       "      <td>1.378155</td>\n",
       "      <td>-0.338321</td>\n",
       "      <td>0.462388</td>\n",
       "      <td>0.239599</td>\n",
       "      <td>0.098698</td>\n",
       "      <td>0.363787</td>\n",
       "      <td>...</td>\n",
       "      <td>-0.018307</td>\n",
       "      <td>0.277838</td>\n",
       "      <td>-0.110474</td>\n",
       "      <td>0.066928</td>\n",
       "      <td>0.128539</td>\n",
       "      <td>-0.189115</td>\n",
       "      <td>0.133558</td>\n",
       "      <td>-0.021053</td>\n",
       "      <td>149.62</td>\n",
       "      <td>0.0</td>\n",
       "    </tr>\n",
       "    <tr>\n",
       "      <th>4</th>\n",
       "      <td>0.0</td>\n",
       "      <td>-1.359807</td>\n",
       "      <td>-0.072781</td>\n",
       "      <td>2.536347</td>\n",
       "      <td>1.378155</td>\n",
       "      <td>-0.338321</td>\n",
       "      <td>0.462388</td>\n",
       "      <td>0.239599</td>\n",
       "      <td>0.098698</td>\n",
       "      <td>0.363787</td>\n",
       "      <td>...</td>\n",
       "      <td>-0.018307</td>\n",
       "      <td>0.277838</td>\n",
       "      <td>-0.110474</td>\n",
       "      <td>0.066928</td>\n",
       "      <td>0.128539</td>\n",
       "      <td>-0.189115</td>\n",
       "      <td>0.133558</td>\n",
       "      <td>-0.021053</td>\n",
       "      <td>149.62</td>\n",
       "      <td>0.0</td>\n",
       "    </tr>\n",
       "  </tbody>\n",
       "</table>\n",
       "<p>5 rows × 31 columns</p>\n",
       "</div>"
      ],
      "text/plain": [
       "   Time        V1        V2        V3        V4        V5        V6        V7  \\\n",
       "0   0.0 -1.359807 -0.072781  2.536347  1.378155 -0.338321  0.462388  0.239599   \n",
       "1   0.0 -1.359807 -0.072781  2.536347  1.378155 -0.338321  0.462388  0.239599   \n",
       "2   0.0 -1.359807 -0.072781  2.536347  1.378155 -0.338321  0.462388  0.239599   \n",
       "3   0.0 -1.359807 -0.072781  2.536347  1.378155 -0.338321  0.462388  0.239599   \n",
       "4   0.0 -1.359807 -0.072781  2.536347  1.378155 -0.338321  0.462388  0.239599   \n",
       "\n",
       "         V8        V9  ...       V21       V22       V23       V24       V25  \\\n",
       "0  0.098698  0.363787  ... -0.018307  0.277838 -0.110474  0.066928  0.128539   \n",
       "1  0.098698  0.363787  ... -0.018307  0.277838 -0.110474  0.066928  0.128539   \n",
       "2  0.098698  0.363787  ... -0.018307  0.277838 -0.110474  0.066928  0.128539   \n",
       "3  0.098698  0.363787  ... -0.018307  0.277838 -0.110474  0.066928  0.128539   \n",
       "4  0.098698  0.363787  ... -0.018307  0.277838 -0.110474  0.066928  0.128539   \n",
       "\n",
       "        V26       V27       V28  Amount  Class  \n",
       "0 -0.189115  0.133558 -0.021053  149.62    0.0  \n",
       "1 -0.189115  0.133558 -0.021053  149.62    0.0  \n",
       "2 -0.189115  0.133558 -0.021053  149.62    0.0  \n",
       "3 -0.189115  0.133558 -0.021053  149.62    0.0  \n",
       "4 -0.189115  0.133558 -0.021053  149.62    0.0  \n",
       "\n",
       "[5 rows x 31 columns]"
      ]
     },
     "execution_count": 7,
     "metadata": {},
     "output_type": "execute_result"
    }
   ],
   "source": [
    "#Inflate the original data 10 times to simulate the case to a original situation\n",
    "n_replicas = 10\n",
    "big_raw_data = pd.DataFrame(np.repeat(input_data.values, n_replicas, axis=0), columns=input_data.columns)\n",
    "\n",
    "print(\"There are \"+str(len(big_raw_data)) +\" in the credit card inflated dataset\")\n",
    "print(\"There are \"+str(len(big_raw_data.columns)) + \"variables in the credit card inflated dataset\")\n",
    "\n",
    "#Display first few rows in data set\n",
    "big_raw_data.head()"
   ]
  },
  {
   "cell_type": "code",
   "execution_count": 9,
   "id": "ec11e3e8-d9e3-4cf7-b1cb-b31679cdd2e2",
   "metadata": {},
   "outputs": [],
   "source": [
    "#Target label representation\n",
    "#1: fraud\n",
    "#0: no_fraud"
   ]
  },
  {
   "cell_type": "code",
   "execution_count": 11,
   "id": "961881b9-7034-4980-a8ee-9b766ea635bf",
   "metadata": {},
   "outputs": [
    {
     "data": {
      "image/png": "[encoded data removed]",
      "text/plain": [
       "<Figure size 640x480 with 1 Axes>"
      ]
     },
     "metadata": {},
     "output_type": "display_data"
    }
   ],
   "source": [
    "#Get the set of distinc classes\n",
    "labels = big_raw_data.Class.unique()\n",
    "\n",
    "#Get the count of each classes\n",
    "sizes = big_raw_data.Class.value_counts().values\n",
    "\n",
    "#Plot the class value counts\n",
    "fig, ax = plt.subplots()\n",
    "ax.pie(sizes, labels=labels, autopct='%1.3f%%')\n",
    "ax.set_title(\"Target variable for value counts\")\n",
    "plt.show()"
   ]
  },
  {
   "cell_type": "markdown",
   "id": "dba3b7af-7610-4e90-bd9d-963d58c38918",
   "metadata": {},
   "source": [
    "### Analysis the amount"
   ]
  },
  {
   "cell_type": "code",
   "execution_count": 17,
   "id": "7e075543-48f6-43b4-8f0f-7c029e72b8e4",
   "metadata": {},
   "outputs": [
    {
     "data": {
      "image/png": "[encoded data removed]",
      "text/plain": [
       "<Figure size 640x480 with 1 Axes>"
      ]
     },
     "metadata": {},
     "output_type": "display_data"
    }
   ],
   "source": [
    "#Analysis the amount in box plot\n",
    "sns.boxplot(big_raw_data.Amount)\n",
    "plt.show()"
   ]
  },
  {
   "cell_type": "code",
   "execution_count": 21,
   "id": "f3b6e49c-424d-4997-873c-617d8dddae80",
   "metadata": {},
   "outputs": [
    {
     "data": {
      "image/png": "[encoded data removed]",
      "text/plain": [
       "<Figure size 640x480 with 1 Axes>"
      ]
     },
     "metadata": {},
     "output_type": "display_data"
    }
   ],
   "source": [
    "#Analysis the amount in histogram\n",
    "plt.hist(big_raw_data.Amount.values, histtype='bar', facecolor='g')\n",
    "plt.show()"
   ]
  },
  {
   "cell_type": "code",
   "execution_count": 22,
   "id": "70cad37f-2940-472b-86bc-7ac63b0af31b",
   "metadata": {},
   "outputs": [
    {
     "data": {
      "text/plain": [
       "count    2.848070e+06\n",
       "mean     8.834962e+01\n",
       "std      2.501197e+02\n",
       "min      0.000000e+00\n",
       "25%      5.600000e+00\n",
       "50%      2.200000e+01\n",
       "75%      7.717000e+01\n",
       "max      2.569116e+04\n",
       "Name: Amount, dtype: float64"
      ]
     },
     "execution_count": 22,
     "metadata": {},
     "output_type": "execute_result"
    }
   ],
   "source": [
    "big_raw_data.Amount.describe()"
   ]
  },
  {
   "cell_type": "code",
   "execution_count": 24,
   "id": "f016a631-ec96-486f-bab0-74119b5ffdd2",
   "metadata": {},
   "outputs": [
    {
     "name": "stdout",
     "output_type": "stream",
     "text": [
      "Minimum amount value is  0.0\n",
      "Maximum amount value is  25691.16\n",
      "90% of the transactions have an amount less or equal than  203.0\n"
     ]
    }
   ],
   "source": [
    "#get the 90% of the transcation\n",
    "print(\"Minimum amount value is \", np.min(big_raw_data.Amount.values))\n",
    "print(\"Maximum amount value is \", np.max(big_raw_data.Amount.values))\n",
    "print(\"90% of the transactions have an amount less or equal than \", np.percentile(big_raw_data.Amount.values, 90))"
   ]
  },
  {
   "cell_type": "markdown",
   "id": "4ef95d97-222d-4660-a00d-da4af587ea59",
   "metadata": {},
   "source": [
    "### Data Preprocessing"
   ]
  },
  {
   "cell_type": "code",
   "execution_count": 25,
   "id": "f3c1f758-a6ec-4b80-937b-b3f253281edb",
   "metadata": {},
   "outputs": [
    {
     "name": "stdout",
     "output_type": "stream",
     "text": [
      "feature_variable shape= (2848070, 29) target_variable shape= (2848070,)\n"
     ]
    }
   ],
   "source": [
    "#Split the feature variable and target variable\n",
    "X = big_raw_data.iloc[:,1:30] #exclude the time variable of the dataset\n",
    "y = big_raw_data.iloc[:,30]\n",
    "\n",
    "#Standardizing the features by removing the mean and scalling the unit variance\n",
    "X_standard_scale = StandardScaler().fit_transform(X)\n",
    "\n",
    "#Normalizing the dataset\n",
    "X_normalize = normalize(X_standard_scale, norm = 'l1')\n",
    "\n",
    "#Print the shape of the features matrix and label vector\n",
    "print('feature_variable shape=', X_normalize.shape, 'target_variable shape=', y.shape)\n"
   ]
  },
  {
   "cell_type": "markdown",
   "id": "3d8989e4-8d80-42e2-aa24-8319e3242ef5",
   "metadata": {},
   "source": [
    "### Train and Test split"
   ]
  },
  {
   "cell_type": "code",
   "execution_count": 27,
   "id": "843fcd40-8b32-4a6b-a57d-0e7907450710",
   "metadata": {},
   "outputs": [
    {
     "name": "stdout",
     "output_type": "stream",
     "text": [
      "X_train.shape= (1993649, 29) y_train.shape= (1993649,)\n",
      "X_test.shape= (854421, 29) y_train= (1993649,)\n"
     ]
    }
   ],
   "source": [
    "X_train, X_test, y_train, y_test = train_test_split(X_normalize, y, test_size = 0.3, random_state = 42, stratify = y)\n",
    "print('X_train.shape=',X_train.shape, 'y_train.shape=',y_train.shape)\n",
    "print('X_test.shape=',X_test.shape, 'y_train=',y_train.shape)"
   ]
  },
  {
   "cell_type": "markdown",
   "id": "09bfca84-f744-4753-aeb4-6cec1447ad86",
   "metadata": {},
   "source": [
    "### Build a Decision Tree Classifier model with Scikit-Learn"
   ]
  },
  {
   "cell_type": "code",
   "execution_count": 32,
   "id": "6f7b0a31-38d9-443e-8d4f-ad79b1d4b21d",
   "metadata": {},
   "outputs": [
    {
     "name": "stdout",
     "output_type": "stream",
     "text": [
      "scikit-learn decision tree training time(s): 55.79647\n"
     ]
    }
   ],
   "source": [
    "#Compute the sample wights to be used as input to the train routine so that\n",
    "#It takes into account the class imbalance in this dataset\n",
    "w_train = compute_sample_weight('balanced', y_train)\n",
    "\n",
    "#Import the Decision Tree Classifier Model from scikit-learn\n",
    "from sklearn.tree import DecisionTreeClassifier\n",
    "\n",
    "#For reproducible output across mutiple function calls, set random_state to a given intiger value\n",
    "decision_tree = DecisionTreeClassifier(max_depth=4, random_state=35)\n",
    "\n",
    "#Train a decision tree classifier using scikit-learn\n",
    "t0 = time.time()\n",
    "decision_tree.fit(X_train, y_train, sample_weight=w_train)\n",
    "scikitlearn_training_time = time.time() - t0\n",
    "print(\"scikit-learn decision tree training time(s): {0:.5f}\".format(scikitlearn_training_time))"
   ]
  },
  {
   "cell_type": "markdown",
   "id": "0a80a6c1-c85a-455c-af8b-6b4044567f23",
   "metadata": {},
   "source": [
    "### Build a Decision Tree Classifier model with Snap ML"
   ]
  },
  {
   "cell_type": "code",
   "execution_count": 33,
   "id": "1f2a2ad8-7ddb-4959-91d7-443983fd635c",
   "metadata": {},
   "outputs": [
    {
     "name": "stdout",
     "output_type": "stream",
     "text": [
      "snap ml decision tree training time(s): 2.91432\n"
     ]
    }
   ],
   "source": [
    "#Import the Decision Tree Classifier Model from snap ml\n",
    "from snapml import DecisionTreeClassifier\n",
    "\n",
    "#to set the number of CPU threads used at a training time, set the n_jobs patameter\n",
    "snapml_decision_tree = DecisionTreeClassifier(max_depth=4, random_state=35, n_jobs=4)\n",
    "\n",
    "#Train a decision tree classifier using snapml\n",
    "t0 = time.time()\n",
    "snapml_decision_tree.fit(X_train, y_train, sample_weight=w_train)\n",
    "snapml_training_time = time.time() - t0\n",
    "print(\"snap ml decision tree training time(s): {0:.5f}\".format(snapml_training_time))"
   ]
  },
  {
   "cell_type": "markdown",
   "id": "4f87215e-686f-4461-beed-55430e70186b",
   "metadata": {},
   "source": [
    "### Evaluate the Scikit-Learn and Snap ML Decision Tree Classifier Models"
   ]
  },
  {
   "cell_type": "code",
   "execution_count": 34,
   "id": "57c9df60-34af-48e1-85c5-6c78c94406c8",
   "metadata": {},
   "outputs": [
    {
     "name": "stdout",
     "output_type": "stream",
     "text": [
      "snap ml vs scikit learn speedup: 19.15x \n",
      "Scikit learn ROC-AUC score : 0.966\n",
      "Snapml learn ROC-AUC score : 0.966\n"
     ]
    }
   ],
   "source": [
    "#snap ml vs scikit learn training speedup\n",
    "training_speedup = scikitlearn_training_time/snapml_training_time\n",
    "print(\"snap ml vs scikit learn speedup: {0:.2f}x \".format(training_speedup))\n",
    "\n",
    "#run inference and compute the probabilities of the test samples\n",
    "sklearn_pred = decision_tree.predict_proba(X_test)[:,1]\n",
    "\n",
    "#evaluate the compute area under the receiver operating characetrisitics for sklearn\n",
    "sklearn_roc_auc = roc_auc_score(y_test, sklearn_pred)\n",
    "print('Scikit learn ROC-AUC score : {0:.3f}'.format(sklearn_roc_auc))\n",
    "\n",
    "#run inference and compute the probabilities of the test samples\n",
    "snapml_pred = snapml_decision_tree.predict_proba(X_test)[:,1]\n",
    "\n",
    "#evaluate the compute area under the receiver operating characetrisitics for snapml\n",
    "snapml_roc_auc = roc_auc_score(y_test, snapml_pred)\n",
    "print('Snapml learn ROC-AUC score : {0:.3f}'.format(snapml_roc_auc))"
   ]
  },
  {
   "cell_type": "markdown",
   "id": "7f1b44e5-e2a1-40bf-a0df-dae97a42af2e",
   "metadata": {},
   "source": [
    "### Build a Support Vector Machine model with Scikit-Learn"
   ]
  },
  {
   "cell_type": "code",
   "execution_count": 35,
   "id": "f7be2d27-8368-4f6a-af77-bfb96d08151f",
   "metadata": {},
   "outputs": [
    {
     "name": "stderr",
     "output_type": "stream",
     "text": [
      "C:\\Users\\shihamf\\AppData\\Local\\Programs\\Python\\Python311\\Lib\\site-packages\\sklearn\\svm\\_classes.py:31: FutureWarning: The default value of `dual` will change from `True` to `'auto'` in 1.5. Set the value of `dual` explicitly to suppress the warning.\n",
      "  warnings.warn(\n"
     ]
    },
    {
     "name": "stdout",
     "output_type": "stream",
     "text": [
      "sklearn training time(s): 114.69\n"
     ]
    },
    {
     "name": "stderr",
     "output_type": "stream",
     "text": [
      "C:\\Users\\shihamf\\AppData\\Local\\Programs\\Python\\Python311\\Lib\\site-packages\\sklearn\\svm\\_base.py:1237: ConvergenceWarning: Liblinear failed to converge, increase the number of iterations.\n",
      "  warnings.warn(\n"
     ]
    }
   ],
   "source": [
    "#import the linear Support Vector Machine (SVM) model from scikit-learn\n",
    "from sklearn.svm import LinearSVC\n",
    "\n",
    "#instantiate a scikit-learn SVM model\n",
    "sklearn_svm = LinearSVC(class_weight='balanced', random_state=31, loss='hinge', fit_intercept = False) \n",
    "\n",
    "#train a linear support vector machine learning model using scikit-learn\n",
    "t0 = time.time()\n",
    "sklearn_svm.fit(X_train, y_train)\n",
    "sklearn_svm_time = time.time() - t0\n",
    "print(\"sklearn training time(s): {0:.2f}\".format(sklearn_svm_time))"
   ]
  },
  {
   "cell_type": "markdown",
   "id": "b35234a1-7b04-4122-958d-8add1b141a83",
   "metadata": {},
   "source": [
    "### Build a Support Vector Machine model with Snap ML"
   ]
  },
  {
   "cell_type": "code",
   "execution_count": 36,
   "id": "358fe767-acc3-4a47-ada5-abee9b3d6ea5",
   "metadata": {},
   "outputs": [
    {
     "name": "stdout",
     "output_type": "stream",
     "text": [
      "snapml training time(s): 19.16\n"
     ]
    }
   ],
   "source": [
    "#import the linear Support Vector Machine (SVM) model from scikit-learn\n",
    "from snapml import SupportVectorMachine\n",
    "\n",
    "#instantiate a snapml SVM model\n",
    "snapml_svm = SupportVectorMachine(class_weight='balanced', random_state=25, n_jobs=4, fit_intercept = False) \n",
    "\n",
    "#train a linear support vector machine learning model using scikit-learn\n",
    "t0 = time.time()\n",
    "snapml_svm.fit(X_train, y_train)\n",
    "snapml_svm_time = time.time() - t0\n",
    "print(\"snapml training time(s): {0:.2f}\".format(snapml_svm_time))"
   ]
  },
  {
   "cell_type": "markdown",
   "id": "c727097d-0489-49ba-bdf1-1712294b7dce",
   "metadata": {},
   "source": [
    "### Evaluate the Scikit learn and Snap ML Support Vector Machine Learning Models"
   ]
  },
  {
   "cell_type": "code",
   "execution_count": 38,
   "id": "87c77ce0-770e-4bbc-ae9f-4a57592cac84",
   "metadata": {},
   "outputs": [
    {
     "name": "stdout",
     "output_type": "stream",
     "text": [
      "Decision tree classifier snap ml vs scikit learn speed up: 5.98x \n",
      "Accuracy of the sklearn SVM model is 0.984\n",
      "Accuracy of the snapml SVM model is 0.985\n"
     ]
    }
   ],
   "source": [
    "#compute the snap ml vs scikit training speedup\n",
    "training_speedup = sklearn_svm_time/snapml_svm_time\n",
    "print(\"Decision tree classifier snap ml vs scikit learn speed up: {0:.2f}x \".format(training_speedup))\n",
    "\n",
    "#get the confidence score of the test sklearn ampples\n",
    "sklearn_svm_pred = sklearn_svm.decision_function(X_test)\n",
    "\n",
    "#evaluate the accuracy on test\n",
    "acc_sklearn_svm = roc_auc_score(y_test, sklearn_svm_pred)\n",
    "print(\"Accuracy of the sklearn SVM model is {0:.3f}\".format(acc_sklearn_svm))\n",
    "\n",
    "#get the confoidence score of the test snapml samples\n",
    "snapml_svm_pred = snapml_svm.decision_function(X_test)\n",
    "\n",
    "#evaluate the accuracy on test\n",
    "acc_snapml_svm = roc_auc_score(y_test, snapml_svm_pred)\n",
    "print(\"Accuracy of the snapml SVM model is {0:.3f}\".format(acc_snapml_svm))\n",
    "\n"
   ]
  },
  {
   "cell_type": "code",
   "execution_count": null,
   "id": "c4cb49a5-19cf-4f9d-803d-c6652d8de28e",
   "metadata": {},
   "outputs": [],
   "source": []
  }
 ],
 "metadata": {
  "kernelspec": {
   "display_name": "Python 3 (ipykernel)",
   "language": "python",
   "name": "python3"
  },
  "language_info": {
   "codemirror_mode": {
    "name": "ipython",
    "version": 3
   },
   "file_extension": ".py",
   "mimetype": "text/x-python",
   "name": "python",
   "nbconvert_exporter": "python",
   "pygments_lexer": "ipython3",
   "version": "3.11.3"
  }
 },
 "nbformat": 4,
 "nbformat_minor": 5
}
